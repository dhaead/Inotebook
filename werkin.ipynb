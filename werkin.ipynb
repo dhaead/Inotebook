{
 "cells": [
  {
   "cell_type": "code",
   "execution_count": 1,
   "metadata": {
    "collapsed": false
   },
   "outputs": [],
   "source": [
    "import numpy as np\n",
    "import matplotlib.pyplot as plt\n",
    "import pandas as pd\n",
    "%matplotlib inline\n",
    "from sklearn import datasets"
   ]
  },
  {
   "cell_type": "code",
   "execution_count": 2,
   "metadata": {
    "collapsed": false
   },
   "outputs": [
    {
     "data": {
      "text/html": [
       "<div>\n",
       "<table border=\"1\" class=\"dataframe\">\n",
       "  <thead>\n",
       "    <tr style=\"text-align: right;\">\n",
       "      <th></th>\n",
       "      <th>CRIM</th>\n",
       "      <th>ZN</th>\n",
       "      <th>INDUS</th>\n",
       "      <th>CHAS</th>\n",
       "      <th>NOX</th>\n",
       "      <th>RM</th>\n",
       "      <th>AGE</th>\n",
       "      <th>DIS</th>\n",
       "      <th>RAD</th>\n",
       "      <th>TAX</th>\n",
       "      <th>PTRATIO</th>\n",
       "      <th>B</th>\n",
       "      <th>LSTAT</th>\n",
       "    </tr>\n",
       "  </thead>\n",
       "  <tbody>\n",
       "    <tr>\n",
       "      <th>count</th>\n",
       "      <td>303.000000</td>\n",
       "      <td>303.000000</td>\n",
       "      <td>303.000000</td>\n",
       "      <td>303.000000</td>\n",
       "      <td>303.000000</td>\n",
       "      <td>303.000000</td>\n",
       "      <td>303.000000</td>\n",
       "      <td>303.000000</td>\n",
       "      <td>303.000000</td>\n",
       "      <td>303.000000</td>\n",
       "      <td>303.000000</td>\n",
       "      <td>303.000000</td>\n",
       "      <td>303.000000</td>\n",
       "    </tr>\n",
       "    <tr>\n",
       "      <th>mean</th>\n",
       "      <td>3.961430</td>\n",
       "      <td>11.485149</td>\n",
       "      <td>11.318482</td>\n",
       "      <td>0.059406</td>\n",
       "      <td>0.558703</td>\n",
       "      <td>6.262297</td>\n",
       "      <td>69.112871</td>\n",
       "      <td>3.776644</td>\n",
       "      <td>9.752475</td>\n",
       "      <td>410.339934</td>\n",
       "      <td>18.470957</td>\n",
       "      <td>354.878185</td>\n",
       "      <td>12.925611</td>\n",
       "    </tr>\n",
       "    <tr>\n",
       "      <th>std</th>\n",
       "      <td>9.850890</td>\n",
       "      <td>23.523743</td>\n",
       "      <td>6.929027</td>\n",
       "      <td>0.236774</td>\n",
       "      <td>0.117504</td>\n",
       "      <td>0.677554</td>\n",
       "      <td>28.001606</td>\n",
       "      <td>2.148635</td>\n",
       "      <td>8.861038</td>\n",
       "      <td>172.063903</td>\n",
       "      <td>2.210125</td>\n",
       "      <td>94.787687</td>\n",
       "      <td>7.186584</td>\n",
       "    </tr>\n",
       "    <tr>\n",
       "      <th>min</th>\n",
       "      <td>0.006320</td>\n",
       "      <td>0.000000</td>\n",
       "      <td>0.460000</td>\n",
       "      <td>0.000000</td>\n",
       "      <td>0.385000</td>\n",
       "      <td>3.561000</td>\n",
       "      <td>2.900000</td>\n",
       "      <td>1.137000</td>\n",
       "      <td>1.000000</td>\n",
       "      <td>187.000000</td>\n",
       "      <td>12.600000</td>\n",
       "      <td>2.520000</td>\n",
       "      <td>1.730000</td>\n",
       "    </tr>\n",
       "    <tr>\n",
       "      <th>25%</th>\n",
       "      <td>0.082325</td>\n",
       "      <td>0.000000</td>\n",
       "      <td>5.190000</td>\n",
       "      <td>0.000000</td>\n",
       "      <td>0.451000</td>\n",
       "      <td>5.882500</td>\n",
       "      <td>45.050000</td>\n",
       "      <td>2.087550</td>\n",
       "      <td>4.000000</td>\n",
       "      <td>277.000000</td>\n",
       "      <td>17.000000</td>\n",
       "      <td>374.555000</td>\n",
       "      <td>7.390000</td>\n",
       "    </tr>\n",
       "    <tr>\n",
       "      <th>50%</th>\n",
       "      <td>0.269380</td>\n",
       "      <td>0.000000</td>\n",
       "      <td>9.900000</td>\n",
       "      <td>0.000000</td>\n",
       "      <td>0.538000</td>\n",
       "      <td>6.212000</td>\n",
       "      <td>79.800000</td>\n",
       "      <td>3.092300</td>\n",
       "      <td>5.000000</td>\n",
       "      <td>330.000000</td>\n",
       "      <td>19.100000</td>\n",
       "      <td>391.710000</td>\n",
       "      <td>11.480000</td>\n",
       "    </tr>\n",
       "    <tr>\n",
       "      <th>75%</th>\n",
       "      <td>3.685665</td>\n",
       "      <td>12.500000</td>\n",
       "      <td>18.100000</td>\n",
       "      <td>0.000000</td>\n",
       "      <td>0.647000</td>\n",
       "      <td>6.618500</td>\n",
       "      <td>94.400000</td>\n",
       "      <td>5.259200</td>\n",
       "      <td>24.000000</td>\n",
       "      <td>666.000000</td>\n",
       "      <td>20.200000</td>\n",
       "      <td>396.900000</td>\n",
       "      <td>17.030000</td>\n",
       "    </tr>\n",
       "    <tr>\n",
       "      <th>max</th>\n",
       "      <td>88.976200</td>\n",
       "      <td>95.000000</td>\n",
       "      <td>27.740000</td>\n",
       "      <td>1.000000</td>\n",
       "      <td>0.871000</td>\n",
       "      <td>8.780000</td>\n",
       "      <td>100.000000</td>\n",
       "      <td>12.126500</td>\n",
       "      <td>24.000000</td>\n",
       "      <td>711.000000</td>\n",
       "      <td>22.000000</td>\n",
       "      <td>396.900000</td>\n",
       "      <td>37.970000</td>\n",
       "    </tr>\n",
       "  </tbody>\n",
       "</table>\n",
       "</div>"
      ],
      "text/plain": [
       "             CRIM          ZN       INDUS        CHAS         NOX          RM  \\\n",
       "count  303.000000  303.000000  303.000000  303.000000  303.000000  303.000000   \n",
       "mean     3.961430   11.485149   11.318482    0.059406    0.558703    6.262297   \n",
       "std      9.850890   23.523743    6.929027    0.236774    0.117504    0.677554   \n",
       "min      0.006320    0.000000    0.460000    0.000000    0.385000    3.561000   \n",
       "25%      0.082325    0.000000    5.190000    0.000000    0.451000    5.882500   \n",
       "50%      0.269380    0.000000    9.900000    0.000000    0.538000    6.212000   \n",
       "75%      3.685665   12.500000   18.100000    0.000000    0.647000    6.618500   \n",
       "max     88.976200   95.000000   27.740000    1.000000    0.871000    8.780000   \n",
       "\n",
       "              AGE         DIS         RAD         TAX     PTRATIO           B  \\\n",
       "count  303.000000  303.000000  303.000000  303.000000  303.000000  303.000000   \n",
       "mean    69.112871    3.776644    9.752475  410.339934   18.470957  354.878185   \n",
       "std     28.001606    2.148635    8.861038  172.063903    2.210125   94.787687   \n",
       "min      2.900000    1.137000    1.000000  187.000000   12.600000    2.520000   \n",
       "25%     45.050000    2.087550    4.000000  277.000000   17.000000  374.555000   \n",
       "50%     79.800000    3.092300    5.000000  330.000000   19.100000  391.710000   \n",
       "75%     94.400000    5.259200   24.000000  666.000000   20.200000  396.900000   \n",
       "max    100.000000   12.126500   24.000000  711.000000   22.000000  396.900000   \n",
       "\n",
       "            LSTAT  \n",
       "count  303.000000  \n",
       "mean    12.925611  \n",
       "std      7.186584  \n",
       "min      1.730000  \n",
       "25%      7.390000  \n",
       "50%     11.480000  \n",
       "75%     17.030000  \n",
       "max     37.970000  "
      ]
     },
     "execution_count": 2,
     "metadata": {},
     "output_type": "execute_result"
    }
   ],
   "source": [
    "boss=datasets.load_boston()\n",
    "fnames=boss.feature_names\n",
    "data=boss.data\n",
    "df=pd.DataFrame(data)\n",
    "fnames=pd.Series(fnames)\n",
    "df.columns=fnames\n",
    "train, validate, test = np.split(df.sample(frac=1), \n",
    "                                 [int(.6*len(df)), \n",
    "                                  int(.8*len(df))])\n",
    "train.describe()"
   ]
  },
  {
   "cell_type": "code",
   "execution_count": 3,
   "metadata": {
    "collapsed": false
   },
   "outputs": [
    {
     "data": {
      "text/plain": [
       "<matplotlib.collections.PathCollection at 0xa28b2e8>"
      ]
     },
     "execution_count": 3,
     "metadata": {},
     "output_type": "execute_result"
    },
    {
     "data": {
      "image/png": "[encoded data removed]",
      "text/plain": [
       "<matplotlib.figure.Figure at 0xa115da0>"
      ]
     },
     "metadata": {},
     "output_type": "display_data"
    }
   ],
   "source": [
    "crime,rooms=train['CRIM'],train['RM']\n",
    "crime=pd.DataFrame(crime)\n",
    "crime['xnot'] = pd.Series(np.ones([np.size(crime)]),index=crime.index)\n",
    "plt.plot(x=crime['CRIM'].values,y=rooms.values)\n",
    "ts=pd.DataFrame(crime['CRIM'],rooms)\n",
    "plt.scatter(crime['CRIM'],rooms)"
   ]
  },
  {
   "cell_type": "code",
   "execution_count": 4,
   "metadata": {
    "collapsed": false
   },
   "outputs": [
    {
     "data": {
      "text/plain": [
       "(0.003131148514851485, 0.01175696208650165)"
      ]
     },
     "execution_count": 4,
     "metadata": {},
     "output_type": "execute_result"
    }
   ],
   "source": [
    "##my gradient decent for linear regression\n",
    "theta_0=0\n",
    "theta_1=0\n",
    "numfeat=len(crime)\n",
    "alpha=.0005\n",
    "theta_j=np.array([theta_0,theta_1])\n",
    "x_1=crime['CRIM']\n",
    "x_vec=crime\n",
    "x_0=crime['xnot']\n",
    "hypothesis=np.inner(np.transpose(theta_j),x_vec)\n",
    "theta_0-alpha*(1./numfeat)*np.sum((hypothesis-rooms)*x_0.values),theta_1-alpha*(1./numfeat)*np.sum((hypothesis-rooms)*crime['CRIM'].values)\n",
    "\n",
    "##theta_new=theta_j-alpha*(1./numfeat)*np.sum(hypothesis-rooms)*x_vec"
   ]
  },
  {
   "cell_type": "code",
   "execution_count": 7,
   "metadata": {
    "collapsed": true
   },
   "outputs": [],
   "source": [
    "theta_0=theta_0-alpha*(1./numfeat)*np.sum((hypothesis-rooms)*x_0.values)\n",
    "theta_1=theta_1-alpha*(1./numfeat)*np.sum((hypothesis-rooms)*crime['CRIM'].values)\n"
   ]
  },
  {
   "cell_type": "code",
   "execution_count": 8,
   "metadata": {
    "collapsed": false
   },
   "outputs": [
    {
     "data": {
      "text/plain": [
       "<matplotlib.collections.PathCollection at 0xa233fd0>"
      ]
     },
     "execution_count": 8,
     "metadata": {},
     "output_type": "execute_result"
    },
    {
     "data": {
      "image/png": "[encoded data removed]",
      "text/plain": [
       "<matplotlib.figure.Figure at 0xa233550>"
      ]
     },
     "metadata": {},
     "output_type": "display_data"
    }
   ],
   "source": [
    "\n",
    "theta_0=theta_0-alpha*(1./numfeat)*np.sum((hypothesis-rooms)*x_0.values)\n",
    "theta_1=theta_1-alpha*(1./numfeat)*np.sum((hypothesis-rooms)*crime['CRIM'].values)\n",
    "theta_0-alpha*(1./numfeat)*np.sum((hypothesis-rooms)*x_0.values),theta_1-alpha*(1./numfeat)*np.sum((hypothesis-rooms)*crime['CRIM'].values)\n",
    "slope=np.linspace(3,10)*theta_1\n",
    "plt.plot(slope+theta_0)\n",
    "plt.scatter(crime['CRIM'],rooms)"
   ]
  },
  {
   "cell_type": "code",
   "execution_count": 9,
   "metadata": {
    "collapsed": false
   },
   "outputs": [],
   "source": [
    "for x in range(0, 100):\n",
    "    \n",
    "    theta_0=theta_0-alpha*(1./numfeat)*np.sum((hypothesis-rooms)*x_0.values)\n",
    "    theta_1=theta_1-alpha*(1./numfeat)*np.sum((hypothesis-rooms)*crime['CRIM'].values)\n",
    "    theta_0-alpha*(1./numfeat)*np.sum((hypothesis-rooms)*x_0.values),theta_1-alpha*(1./numfeat)*np.sum((hypothesis-rooms)*crime['CRIM'].values)\n",
    "    ##print \"iteration %d\" % (x), \"theta 0 is %f\" % (theta_0) , \"theta 1 is %f\" % (theta_1)\n",
    "    "
   ]
  },
  {
   "cell_type": "code",
   "execution_count": 10,
   "metadata": {
    "collapsed": false,
    "scrolled": true
   },
   "outputs": [
    {
     "data": {
      "text/plain": [
       "<matplotlib.collections.PathCollection at 0xa0eb908>"
      ]
     },
     "execution_count": 10,
     "metadata": {},
     "output_type": "execute_result"
    },
    {
     "data": {
      "image/png": "[encoded data removed]",
      "text/plain": [
       "<matplotlib.figure.Figure at 0xa0ebac8>"
      ]
     },
     "metadata": {},
     "output_type": "display_data"
    }
   ],
   "source": [
    "slope=np.linspace(3,10)*theta_1\n",
    "plt.plot(slope+theta_0)\n",
    "plt.scatter(crime['CRIM'],rooms)\n",
    "    "
   ]
  },
  {
   "cell_type": "markdown",
   "metadata": {
    "collapsed": true
   },
   "source": [
    "            # find the least squares regression of the following data pairs "
   ]
  },
  {
   "cell_type": "code",
   "execution_count": null,
   "metadata": {
    "collapsed": true
   },
   "outputs": [],
   "source": []
  },
  {
   "cell_type": "code",
   "execution_count": 9,
   "metadata": {
    "collapsed": false
   },
   "outputs": [],
   "source": [
    "##Consider the following set of points: {(-2 , -1) , (1 , 1) , (3 , 2)}\n",
    "\n",
    "##a) Find the least square regression line for the given data points.\n",
    "\n",
    "##b) Plot the given points and the regression line in the same rectangualr system of axes. "
   ]
  },
  {
   "cell_type": "code",
   "execution_count": 10,
   "metadata": {
    "collapsed": false
   },
   "outputs": [],
   "source": [
    "x=np.array([-2,1,3])\n",
    "y=np.array([-1,1,2])\n",
    "theta=np.array([1,6,1])\n",
    "##cost function\n",
    "##d_dtheta\n",
    "##hypotheses=thetatranposex\n",
    "prediction=np.transpose(theta)*x"
   ]
  },
  {
   "cell_type": "code",
   "execution_count": 14,
   "metadata": {
    "collapsed": false
   },
   "outputs": [],
   "source": [
    "from sklearn import datasets"
   ]
  },
  {
   "cell_type": "code",
   "execution_count": 15,
   "metadata": {
    "collapsed": false
   },
   "outputs": [],
   "source": [
    "boss=datasets.load_boston()"
   ]
  },
  {
   "cell_type": "code",
   "execution_count": null,
   "metadata": {
    "collapsed": false
   },
   "outputs": [],
   "source": []
  },
  {
   "cell_type": "code",
   "execution_count": 17,
   "metadata": {
    "collapsed": false
   },
   "outputs": [],
   "source": [
    "boss=datasets.load_boston()\n",
    "fnames=boss.feature_names\n",
    "data=boss.data\n",
    "df=pd.DataFrame(data)\n",
    "fnames=pd.Series(fnames)\n",
    "df.columns=fnames\n",
    "train, validate, test = np.split(df.sample(frac=1), \n",
    "                                 [int(.6*len(df)), \n",
    "                                  int(.8*len(df))])\n"
   ]
  },
  {
   "cell_type": "code",
   "execution_count": 18,
   "metadata": {
    "collapsed": false
   },
   "outputs": [
    {
     "data": {
      "text/html": [
       "<div>\n",
       "<table border=\"1\" class=\"dataframe\">\n",
       "  <thead>\n",
       "    <tr style=\"text-align: right;\">\n",
       "      <th></th>\n",
       "      <th>CRIM</th>\n",
       "      <th>ZN</th>\n",
       "      <th>INDUS</th>\n",
       "      <th>CHAS</th>\n",
       "      <th>NOX</th>\n",
       "      <th>RM</th>\n",
       "      <th>AGE</th>\n",
       "      <th>DIS</th>\n",
       "      <th>RAD</th>\n",
       "      <th>TAX</th>\n",
       "      <th>PTRATIO</th>\n",
       "      <th>B</th>\n",
       "      <th>LSTAT</th>\n",
       "    </tr>\n",
       "  </thead>\n",
       "  <tbody>\n",
       "    <tr>\n",
       "      <th>count</th>\n",
       "      <td>303.000000</td>\n",
       "      <td>303.000000</td>\n",
       "      <td>303.000000</td>\n",
       "      <td>303.000000</td>\n",
       "      <td>303.000000</td>\n",
       "      <td>303.000000</td>\n",
       "      <td>303.000000</td>\n",
       "      <td>303.000000</td>\n",
       "      <td>303.000000</td>\n",
       "      <td>303.000000</td>\n",
       "      <td>303.000000</td>\n",
       "      <td>303.000000</td>\n",
       "      <td>303.000000</td>\n",
       "    </tr>\n",
       "    <tr>\n",
       "      <th>mean</th>\n",
       "      <td>3.625014</td>\n",
       "      <td>11.777228</td>\n",
       "      <td>11.256601</td>\n",
       "      <td>0.079208</td>\n",
       "      <td>0.558145</td>\n",
       "      <td>6.309323</td>\n",
       "      <td>68.922772</td>\n",
       "      <td>3.771783</td>\n",
       "      <td>9.722772</td>\n",
       "      <td>411.382838</td>\n",
       "      <td>18.482178</td>\n",
       "      <td>351.854686</td>\n",
       "      <td>12.707723</td>\n",
       "    </tr>\n",
       "    <tr>\n",
       "      <th>std</th>\n",
       "      <td>8.323025</td>\n",
       "      <td>24.348274</td>\n",
       "      <td>6.905883</td>\n",
       "      <td>0.270510</td>\n",
       "      <td>0.119003</td>\n",
       "      <td>0.708492</td>\n",
       "      <td>28.068231</td>\n",
       "      <td>2.148461</td>\n",
       "      <td>8.825894</td>\n",
       "      <td>169.314860</td>\n",
       "      <td>2.146292</td>\n",
       "      <td>96.425614</td>\n",
       "      <td>7.282599</td>\n",
       "    </tr>\n",
       "    <tr>\n",
       "      <th>min</th>\n",
       "      <td>0.006320</td>\n",
       "      <td>0.000000</td>\n",
       "      <td>0.460000</td>\n",
       "      <td>0.000000</td>\n",
       "      <td>0.385000</td>\n",
       "      <td>4.138000</td>\n",
       "      <td>6.200000</td>\n",
       "      <td>1.129600</td>\n",
       "      <td>1.000000</td>\n",
       "      <td>187.000000</td>\n",
       "      <td>13.000000</td>\n",
       "      <td>0.320000</td>\n",
       "      <td>1.730000</td>\n",
       "    </tr>\n",
       "    <tr>\n",
       "      <th>25%</th>\n",
       "      <td>0.079960</td>\n",
       "      <td>0.000000</td>\n",
       "      <td>5.130000</td>\n",
       "      <td>0.000000</td>\n",
       "      <td>0.449000</td>\n",
       "      <td>5.882000</td>\n",
       "      <td>47.200000</td>\n",
       "      <td>2.101800</td>\n",
       "      <td>4.000000</td>\n",
       "      <td>281.000000</td>\n",
       "      <td>17.400000</td>\n",
       "      <td>372.285000</td>\n",
       "      <td>7.100000</td>\n",
       "    </tr>\n",
       "    <tr>\n",
       "      <th>50%</th>\n",
       "      <td>0.259150</td>\n",
       "      <td>0.000000</td>\n",
       "      <td>9.690000</td>\n",
       "      <td>0.000000</td>\n",
       "      <td>0.538000</td>\n",
       "      <td>6.195000</td>\n",
       "      <td>77.700000</td>\n",
       "      <td>3.102500</td>\n",
       "      <td>5.000000</td>\n",
       "      <td>348.000000</td>\n",
       "      <td>19.100000</td>\n",
       "      <td>390.860000</td>\n",
       "      <td>11.380000</td>\n",
       "    </tr>\n",
       "    <tr>\n",
       "      <th>75%</th>\n",
       "      <td>3.675945</td>\n",
       "      <td>12.500000</td>\n",
       "      <td>18.100000</td>\n",
       "      <td>0.000000</td>\n",
       "      <td>0.631000</td>\n",
       "      <td>6.638500</td>\n",
       "      <td>94.650000</td>\n",
       "      <td>5.108550</td>\n",
       "      <td>24.000000</td>\n",
       "      <td>666.000000</td>\n",
       "      <td>20.200000</td>\n",
       "      <td>396.225000</td>\n",
       "      <td>17.170000</td>\n",
       "    </tr>\n",
       "    <tr>\n",
       "      <th>max</th>\n",
       "      <td>73.534100</td>\n",
       "      <td>95.000000</td>\n",
       "      <td>27.740000</td>\n",
       "      <td>1.000000</td>\n",
       "      <td>0.871000</td>\n",
       "      <td>8.780000</td>\n",
       "      <td>100.000000</td>\n",
       "      <td>12.126500</td>\n",
       "      <td>24.000000</td>\n",
       "      <td>711.000000</td>\n",
       "      <td>22.000000</td>\n",
       "      <td>396.900000</td>\n",
       "      <td>36.980000</td>\n",
       "    </tr>\n",
       "  </tbody>\n",
       "</table>\n",
       "</div>"
      ],
      "text/plain": [
       "             CRIM          ZN       INDUS        CHAS         NOX          RM  \\\n",
       "count  303.000000  303.000000  303.000000  303.000000  303.000000  303.000000   \n",
       "mean     3.625014   11.777228   11.256601    0.079208    0.558145    6.309323   \n",
       "std      8.323025   24.348274    6.905883    0.270510    0.119003    0.708492   \n",
       "min      0.006320    0.000000    0.460000    0.000000    0.385000    4.138000   \n",
       "25%      0.079960    0.000000    5.130000    0.000000    0.449000    5.882000   \n",
       "50%      0.259150    0.000000    9.690000    0.000000    0.538000    6.195000   \n",
       "75%      3.675945   12.500000   18.100000    0.000000    0.631000    6.638500   \n",
       "max     73.534100   95.000000   27.740000    1.000000    0.871000    8.780000   \n",
       "\n",
       "              AGE         DIS         RAD         TAX     PTRATIO           B  \\\n",
       "count  303.000000  303.000000  303.000000  303.000000  303.000000  303.000000   \n",
       "mean    68.922772    3.771783    9.722772  411.382838   18.482178  351.854686   \n",
       "std     28.068231    2.148461    8.825894  169.314860    2.146292   96.425614   \n",
       "min      6.200000    1.129600    1.000000  187.000000   13.000000    0.320000   \n",
       "25%     47.200000    2.101800    4.000000  281.000000   17.400000  372.285000   \n",
       "50%     77.700000    3.102500    5.000000  348.000000   19.100000  390.860000   \n",
       "75%     94.650000    5.108550   24.000000  666.000000   20.200000  396.225000   \n",
       "max    100.000000   12.126500   24.000000  711.000000   22.000000  396.900000   \n",
       "\n",
       "            LSTAT  \n",
       "count  303.000000  \n",
       "mean    12.707723  \n",
       "std      7.282599  \n",
       "min      1.730000  \n",
       "25%      7.100000  \n",
       "50%     11.380000  \n",
       "75%     17.170000  \n",
       "max     36.980000  "
      ]
     },
     "execution_count": 18,
     "metadata": {},
     "output_type": "execute_result"
    }
   ],
   "source": [
    "train.describe()"
   ]
  },
  {
   "cell_type": "code",
   "execution_count": 19,
   "metadata": {
    "collapsed": false
   },
   "outputs": [
    {
     "data": {
      "text/plain": [
       "<matplotlib.collections.PathCollection at 0xbc25cf8>"
      ]
     },
     "execution_count": 19,
     "metadata": {},
     "output_type": "execute_result"
    },
    {
     "data": {
      "image/png": "[encoded data removed]",
      "text/plain": [
       "<matplotlib.figure.Figure at 0xb8132b0>"
      ]
     },
     "metadata": {},
     "output_type": "display_data"
    }
   ],
   "source": [
    "crime,rooms=train['CRIM'],train['RM']\n",
    "crime=pd.DataFrame(crime)\n",
    "crime['xnot'] = pd.Series(np.ones([np.size(crime)]),index=crime.index)\n",
    "plt.plot(x=crime['CRIM'].values,y=rooms.values)\n",
    "ts=pd.DataFrame(crime['CRIM'],rooms)\n",
    "plt.scatter(crime['CRIM'],rooms)"
   ]
  },
  {
   "cell_type": "code",
   "execution_count": 20,
   "metadata": {
    "collapsed": false
   },
   "outputs": [
    {
     "data": {
      "text/plain": [
       "(array([ 6494.46147809,  1911.725     ]),\n",
       " array([[ 24902.00880953,   1098.37911   ],\n",
       "        [  1098.37911   ,    303.        ]]))"
      ]
     },
     "execution_count": 20,
     "metadata": {},
     "output_type": "execute_result"
    }
   ],
   "source": [
    "Ata=np.matmul(np.array(crime.T),np.array(crime))\n",
    "ab=np.matmul(np.array(crime.T),np.array(rooms))\n",
    "ab,Ata"
   ]
  },
  {
   "cell_type": "code",
   "execution_count": 21,
   "metadata": {
    "collapsed": false
   },
   "outputs": [
    {
     "ename": "SyntaxError",
     "evalue": "invalid syntax (<ipython-input-21-e3bc1643a42b>, line 1)",
     "output_type": "error",
     "traceback": [
      "\u001b[0;36m  File \u001b[0;32m\"<ipython-input-21-e3bc1643a42b>\"\u001b[0;36m, line \u001b[0;32m1\u001b[0m\n\u001b[0;31m    ab[1]-\u001b[0m\n\u001b[0m          ^\u001b[0m\n\u001b[0;31mSyntaxError\u001b[0m\u001b[0;31m:\u001b[0m invalid syntax\n"
     ]
    }
   ],
   "source": [
    "ab[1]-"
   ]
  },
  {
   "cell_type": "code",
   "execution_count": 195,
   "metadata": {
    "collapsed": false
   },
   "outputs": [
    {
     "data": {
      "text/plain": [
       "303"
      ]
     },
     "execution_count": 195,
     "metadata": {},
     "output_type": "execute_result"
    }
   ],
   "source": [
    "len(crime)"
   ]
  },
  {
   "cell_type": "code",
   "execution_count": 331,
   "metadata": {
    "collapsed": false
   },
   "outputs": [
    {
     "data": {
      "text/plain": [
       "(0.003154661716171618, 0.010716933132161717)"
      ]
     },
     "execution_count": 331,
     "metadata": {},
     "output_type": "execute_result"
    }
   ],
   "source": [
    "##my gradient decent for linear regression\n",
    "theta_0=0\n",
    "theta_1=0\n",
    "numfeat=len(crime)\n",
    "alpha=.0005\n",
    "theta_j=np.array([theta_0,theta_1])\n",
    "x_1=crime['CRIM']\n",
    "x_vec=crime\n",
    "x_0=crime['xnot']\n",
    "hypothesis=np.inner(np.transpose(theta_j),x_vec)\n",
    "theta_0-alpha*(1./numfeat)*np.sum((hypothesis-rooms)*x_0.values),theta_1-alpha*(1./numfeat)*np.sum((hypothesis-rooms)*crime['CRIM'].values)\n",
    "\n",
    "##theta_new=theta_j-alpha*(1./numfeat)*np.sum(hypothesis-rooms)*x_vec"
   ]
  },
  {
   "cell_type": "code",
   "execution_count": 332,
   "metadata": {
    "collapsed": false
   },
   "outputs": [],
   "source": [
    "theta_0=theta_0-alpha*(1./numfeat)*np.sum((hypothesis-rooms)*x_0.values)\n",
    "theta_1=theta_1-alpha*(1./numfeat)*np.sum((hypothesis-rooms)*crime['CRIM'].values)\n"
   ]
  },
  {
   "cell_type": "code",
   "execution_count": 478,
   "metadata": {
    "collapsed": false
   },
   "outputs": [
    {
     "data": {
      "text/plain": [
       "<matplotlib.collections.PathCollection at 0x2c187fd0>"
      ]
     },
     "execution_count": 478,
     "metadata": {},
     "output_type": "execute_result"
    },
    {
     "data": {
      "image/png": "[encoded data removed]",
      "text/plain": [
       "<matplotlib.figure.Figure at 0x2c521ef0>"
      ]
     },
     "metadata": {},
     "output_type": "display_data"
    }
   ],
   "source": [
    "theta_0=theta_0-alpha*(1./numfeat)*np.sum((hypothesis-rooms)*x_0.values)\n",
    "theta_1=theta_1-alpha*(1./numfeat)*np.sum((hypothesis-rooms)*crime['CRIM'].values)\n",
    "theta_0-alpha*(1./numfeat)*np.sum((hypothesis-rooms)*x_0.values),theta_1-alpha*(1./numfeat)*np.sum((hypothesis-rooms)*crime['CRIM'].values)\n",
    "slope=np.linspace(3,10)*theta_1\n",
    "plt.plot(slope+theta_0)\n",
    "plt.scatter(crime['CRIM'],rooms)"
   ]
  },
  {
   "cell_type": "code",
   "execution_count": 468,
   "metadata": {
    "collapsed": true
   },
   "outputs": [],
   "source": [
    "x_1=crime['CRIM']\n",
    "x_vec=crime\n",
    "\n",
    "hypothesis=np.inner(np.transpose(theta_j),x_vec)\n",
    "\n",
    "hypothesis\n",
    "theta_j=theta_j+alpha*(1./numfeat)*np.sum(hypothesis-rooms)"
   ]
  },
  {
   "cell_type": "code",
   "execution_count": 292,
   "metadata": {
    "collapsed": false
   },
   "outputs": [
    {
     "data": {
      "text/plain": [
       "<matplotlib.collections.PathCollection at 0xb89feb8>"
      ]
     },
     "execution_count": 292,
     "metadata": {},
     "output_type": "execute_result"
    },
    {
     "data": {
      "image/png": "[encoded data removed]",
      "text/plain": [
       "<matplotlib.figure.Figure at 0xc5937f0>"
      ]
     },
     "metadata": {},
     "output_type": "display_data"
    }
   ],
   "source": [
    "slope=np.linspace(3,10)*theta_1\n",
    "plt.plot(slope+theta_0)\n",
    "plt.scatter(crime['CRIM'],rooms)"
   ]
  },
  {
   "cell_type": "markdown",
   "metadata": {},
   "source": [
    "From calculation, it is expected that the local minimum occurs at x=9/4\n",
    "\n",
    "x_old = 0 # The value does not matter as long as abs(x_new - x_old) > precision\n",
    "x_new = 6 # The algorithm starts at x=6\n",
    "gamma = 0.01 # step size\n",
    "precision = 0.00001\n",
    "\n",
    "def df(x):\n",
    "    y = 4 * x**3 - 9 * x**2\n",
    "    return y\n",
    "\n",
    "while abs(x_new - x_old) > precision:\n",
    "    x_old = x_new\n",
    "    x_new += -gamma * df(x_old)\n",
    "\n",
    "print(\"The local minimum occurs at %f\" % x_new)"
   ]
  },
  {
   "cell_type": "code",
   "execution_count": 484,
   "metadata": {
    "collapsed": false
   },
   "outputs": [
    {
     "data": {
      "text/plain": [
       "[<matplotlib.lines.Line2D at 0x2d008eb8>]"
      ]
     },
     "execution_count": 484,
     "metadata": {},
     "output_type": "execute_result"
    },
    {
     "data": {
      "image/png": "[encoded data removed]",
      "text/plain": [
       "<matplotlib.figure.Figure at 0x2c537a58>"
      ]
     },
     "metadata": {},
     "output_type": "display_data"
    }
   ],
   "source": [
    "lines=np.linspace(-3,3)\n",
    "fx=lines**4-4*(lines)**2\n",
    "plt.plot(fx)"
   ]
  },
  {
   "cell_type": "code",
   "execution_count": 485,
   "metadata": {
    "collapsed": false
   },
   "outputs": [
    {
     "data": {
      "text/plain": [
       "array([  4.50000000e+01,   3.54421665e+01,   2.72546659e+01,\n",
       "         2.03134015e+01,   1.44996722e+01,   9.70017265e+00,\n",
       "         5.80699264e+00,   2.71761766e+00,   3.34928647e-01,\n",
       "        -1.43279794e+00,  -2.67189015e+00,  -3.46328052e+00,\n",
       "        -3.88250609e+00,  -3.99970840e+00,  -3.87963349e+00,\n",
       "        -3.58163187e+00,  -3.15965859e+00,  -2.66227316e+00,\n",
       "        -2.13263962e+00,  -1.60852647e+00,  -1.12230674e+00,\n",
       "        -7.00957934e-01,  -3.66062072e-01,  -1.33805660e-01,\n",
       "        -1.49797018e-02,  -1.49797018e-02,  -1.33805660e-01,\n",
       "        -3.66062072e-01,  -7.00957934e-01,  -1.12230674e+00,\n",
       "        -1.60852647e+00,  -2.13263962e+00,  -2.66227316e+00,\n",
       "        -3.15965859e+00,  -3.58163187e+00,  -3.87963349e+00,\n",
       "        -3.99970840e+00,  -3.88250609e+00,  -3.46328052e+00,\n",
       "        -2.67189015e+00,  -1.43279794e+00,   3.34928647e-01,\n",
       "         2.71761766e+00,   5.80699264e+00,   9.70017265e+00,\n",
       "         1.44996722e+01,   2.03134015e+01,   2.72546659e+01,\n",
       "         3.54421665e+01,   4.50000000e+01])"
      ]
     },
     "execution_count": 485,
     "metadata": {},
     "output_type": "execute_result"
    }
   ],
   "source": [
    "fx"
   ]
  },
  {
   "cell_type": "code",
   "execution_count": 486,
   "metadata": {
    "collapsed": false
   },
   "outputs": [
    {
     "data": {
      "text/plain": [
       "array([-3.        , -2.87755102, -2.75510204, -2.63265306, -2.51020408,\n",
       "       -2.3877551 , -2.26530612, -2.14285714, -2.02040816, -1.89795918,\n",
       "       -1.7755102 , -1.65306122, -1.53061224, -1.40816327, -1.28571429,\n",
       "       -1.16326531, -1.04081633, -0.91836735, -0.79591837, -0.67346939,\n",
       "       -0.55102041, -0.42857143, -0.30612245, -0.18367347, -0.06122449,\n",
       "        0.06122449,  0.18367347,  0.30612245,  0.42857143,  0.55102041,\n",
       "        0.67346939,  0.79591837,  0.91836735,  1.04081633,  1.16326531,\n",
       "        1.28571429,  1.40816327,  1.53061224,  1.65306122,  1.7755102 ,\n",
       "        1.89795918,  2.02040816,  2.14285714,  2.26530612,  2.3877551 ,\n",
       "        2.51020408,  2.63265306,  2.75510204,  2.87755102,  3.        ])"
      ]
     },
     "execution_count": 486,
     "metadata": {},
     "output_type": "execute_result"
    }
   ],
   "source": [
    "lines"
   ]
  },
  {
   "cell_type": "code",
   "execution_count": null,
   "metadata": {
    "collapsed": true
   },
   "outputs": [],
   "source": []
  }
 ],
 "metadata": {
  "anaconda-cloud": {},
  "kernelspec": {
   "display_name": "Python [default]",
   "language": "python",
   "name": "python2"
  },
  "language_info": {
   "codemirror_mode": {
    "name": "ipython",
    "version": 2
   },
   "file_extension": ".py",
   "mimetype": "text/x-python",
   "name": "python",
   "nbconvert_exporter": "python",
   "pygments_lexer": "ipython2",
   "version": "2.7.12"
  }
 },
 "nbformat": 4,
 "nbformat_minor": 1
}
